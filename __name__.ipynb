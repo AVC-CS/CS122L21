{
 "cells": [
  {
   "cell_type": "code",
   "execution_count": 1,
   "id": "e1b6bcd1-290b-43c9-89dd-c1653b011ed0",
   "metadata": {},
   "outputs": [
    {
     "name": "stdout",
     "output_type": "stream",
     "text": [
      "Hello World\n"
     ]
    }
   ],
   "source": [
    "def main():\n",
    "    print('Hello World')\n",
    "\n",
    "\n",
    "if __name__ == '__main__':\n",
    "    main()\n",
    "    "
   ]
  },
  {
   "cell_type": "markdown",
   "id": "44fd2aa4-9cb9-46f6-a193-d2811f344860",
   "metadata": {},
   "source": [
    "# Explanation of the Function Structure main()\n",
    "The provided code snippet is a common structure used in Python scripts to define a main function and control the execution of the script. Let's break it down step-by-step:\n",
    "\n",
    "### Explanation\n",
    "\n",
    "1. **Function Definition**:\n",
    "   "
   ]
  },
  {
   "cell_type": "code",
   "execution_count": 4,
   "id": "14acfbaf-eea5-4802-aa7b-241903527aae",
   "metadata": {},
   "outputs": [],
   "source": [
    "   def main():\n",
    "       print('Hello World')\n",
    "   "
   ]
  },
  {
   "cell_type": "markdown",
   "id": "a3dd8b2f-54f1-4ee3-8f4e-2848b2f9f65c",
   "metadata": {},
   "source": [
    "   - Here, a function named `main` is defined. When this function is called, it will execute the code inside it, which in this case is a simple print statement that outputs \"Hello World\".\n",
    "\n",
    "2. **Conditional Execution**:\n",
    "   "
   ]
  },
  {
   "cell_type": "code",
   "execution_count": 7,
   "id": "21fdd383-7ced-4cef-8a56-af66194d4f2e",
   "metadata": {},
   "outputs": [
    {
     "name": "stdout",
     "output_type": "stream",
     "text": [
      "Hello World\n"
     ]
    }
   ],
   "source": [
    "   if __name__ == '__main__':\n",
    "       main()\n",
    "   "
   ]
  },
  {
   "cell_type": "markdown",
   "id": "0a29f21a-a981-4939-872a-7bd8f0cb2075",
   "metadata": {},
   "source": [
    "   - The line `if __name__ == '__main__':` checks whether the script is being run directly (as the main program) or being imported as a module in another script.\n",
    "   - If the script is run directly, `__name__` is set to `'__main__'`, and the `main()` function is called, executing the print statement.\n",
    "\n",
    "### Calling `main()` Without `__name__`\n",
    "\n",
    "If you want to call the `main()` function without using the `if __name__ == '__main__':` construct, you can simply call it directly after its definition. Here’s how you can do it:\n"
   ]
  },
  {
   "cell_type": "code",
   "execution_count": 10,
   "id": "97b94c30-1ddc-457a-b7e5-0eb886b43851",
   "metadata": {},
   "outputs": [
    {
     "name": "stdout",
     "output_type": "stream",
     "text": [
      "Hello World\n"
     ]
    }
   ],
   "source": [
    "def main():\n",
    "    print('Hello World')\n",
    "\n",
    "main()  # Directly calling the main function"
   ]
  },
  {
   "cell_type": "markdown",
   "id": "b40a9976-445a-4e02-ae33-f4ad06722fae",
   "metadata": {},
   "source": [
    "\n",
    "### Key Points\n",
    "\n",
    "- **Direct Call**: By calling `main()` directly, the function will execute every time the script is run, regardless of whether it is being run as the main program or imported as a module.\n",
    "- **Use Case**: The `if __name__ == '__main__':` construct is useful for preventing certain code from being executed when the script is imported elsewhere, allowing for better modularity and reusability of code.\n",
    "\n",
    "In summary, using `if __name__ == '__main__':` allows for controlled execution of the main function, while calling `main()` directly will execute it unconditionally."
   ]
  },
  {
   "cell_type": "markdown",
   "id": "57d55ece-e691-46f9-b891-460493441750",
   "metadata": {},
   "source": [
    "## In your Labs,\n",
    "\n",
    "- You will have the template code which is the same as the previous example"
   ]
  },
  {
   "cell_type": "code",
   "execution_count": null,
   "id": "309728fe-f822-48bc-bb63-86411c7a426b",
   "metadata": {},
   "outputs": [],
   "source": [
    "def main():\n",
    "\n",
    "    original_price = int(input('Enter the regular price: '))\n",
    "    rate = int(input('Enter the discount rate: '))\n",
    "\n",
    "    \"\"\"\n",
    "    ########################################\n",
    "    Code Your Program here\n",
    "    ########################################\n",
    "    \"\"\"\n",
    "\n",
    "    print(f'Regular Price: {original_price}')\n",
    "    print(f'Discount Amount: {discount_amount}')\n",
    "    print(f'Final Price: {final_price}')\n",
    "\n",
    "   ##################################################\n",
    "   # Do not delete the return statement\n",
    "   ##################################################\n",
    "    return original_price, discount_amount, final_price\n",
    "\n",
    "\n",
    "if __name__ == '__main__':\n",
    "    main()\n"
   ]
  },
  {
   "cell_type": "markdown",
   "id": "d4ab0e6c-5945-4d3f-97d4-ea309a034d30",
   "metadata": {},
   "source": [
    "# Then, your answer shoule be"
   ]
  },
  {
   "cell_type": "code",
   "execution_count": 19,
   "id": "de0f0b1c-ea13-4f2f-9878-93627cbc6a25",
   "metadata": {},
   "outputs": [
    {
     "name": "stdin",
     "output_type": "stream",
     "text": [
      "Enter the regular price:  100\n",
      "Enter the discount rate:  20\n"
     ]
    },
    {
     "name": "stdout",
     "output_type": "stream",
     "text": [
      "Regular Price: 100\n",
      "Discount Amount: 20.0\n",
      "Final Price: 80.0\n"
     ]
    }
   ],
   "source": [
    "def main():\n",
    "\n",
    "    original_price = int(input('Enter the regular price: '))\n",
    "    rate = int(input('Enter the discount rate: '))\n",
    "\n",
    "    discount_amount = original_price * rate / 100\n",
    "    final_price = original_price - discount_amount\n",
    "    \n",
    "    print(f'Regular Price: {original_price}')\n",
    "    print(f'Discount Amount: {discount_amount}')\n",
    "    print(f'Final Price: {final_price}')\n",
    "\n",
    "   ##################################################\n",
    "   # Do not delete the return statement\n",
    "   ##################################################\n",
    "    return original_price, discount_amount, final_price\n",
    "\n",
    "\n",
    "if __name__ == '__main__':\n",
    "    main()\n"
   ]
  }
 ],
 "metadata": {
  "kernelspec": {
   "display_name": "anaconda-ai-2024.04-py310",
   "language": "python",
   "name": "conda-env-anaconda-ai-2024.04-py310-py"
  },
  "language_info": {
   "codemirror_mode": {
    "name": "ipython",
    "version": 3
   },
   "file_extension": ".py",
   "mimetype": "text/x-python",
   "name": "python",
   "nbconvert_exporter": "python",
   "pygments_lexer": "ipython3",
   "version": "3.10.13"
  }
 },
 "nbformat": 4,
 "nbformat_minor": 5
}
